{
 "cells": [
  {
   "cell_type": "markdown",
   "id": "317246f7-5b27-4a7a-8dff-46fd6f9e5c43",
   "metadata": {},
   "source": [
    "# Generating Music"
   ]
  },
  {
   "cell_type": "code",
   "execution_count": 7,
   "id": "dce55e34-d400-46ae-8671-8eb65ca1fd4e",
   "metadata": {},
   "outputs": [],
   "source": [
    "import numpy as np\n",
    "import random\n",
    "import glob\n",
    "from tqdm import tqdm\n",
    "from music21 import *\n",
    "from tensorflow.keras.layers import LSTM,Dense,Input,Dropout\n",
    "from tensorflow.keras.models import Sequential,Model,load_model\n",
    "from sklearn.model_selection import train_test_split"
   ]
  },
  {
   "cell_type": "code",
   "execution_count": 65,
   "id": "1499da63-143e-414d-afe1-6dfbc6c2b055",
   "metadata": {},
   "outputs": [],
   "source": [
    "def read_files(file):\n",
    "  notes=[]\n",
    "  notes_to_parse=None\n",
    "  #parse the midi file\n",
    "  midi=converter.parse(file)\n",
    "  #seperate all instruments from the file\n",
    "  instrmt=instrument.partitionByInstrument(midi)\n",
    "\n",
    "  for part in instrmt.parts:\n",
    "    #fetch data only of Piano instrument\n",
    "    if 'Piano' in str(part):\n",
    "      notes_to_parse=part.recurse()\n",
    "\n",
    "      #iterate over all the parts of sub stream elements\n",
    "      #check if element's type is Note or chord\n",
    "      #if it is chord split them into notes\n",
    "      for element in notes_to_parse:\n",
    "        if type(element)==note.Note:\n",
    "          notes.append(str(element.pitch))\n",
    "        elif type(element)==chord.Chord:\n",
    "          notes.append('.'.join(str(n) for n in element.normalOrder))\n",
    "\n",
    "  #return the list of notes\n",
    "  return np.array(notes)"
   ]
  },
  {
   "cell_type": "code",
   "execution_count": 67,
   "id": "38fa08d6-a0fe-4ce2-a876-b7a6f5451ea9",
   "metadata": {},
   "outputs": [
    {
     "name": "stdout",
     "output_type": "stream",
     "text": [
      "Loading Music File: Data/schubert/schubert_D850_1.mid\n",
      "Loading Music File: Data/schubert/schubert_D850_2.mid\n",
      "Loading Music File: Data/schubert/schubert_D850_3.mid\n",
      "Loading Music File: Data/schubert/schubert_D850_4.mid\n",
      "Loading Music File: Data/schubert/schubert_D935_1.mid\n",
      "Loading Music File: Data/schubert/schubert_D935_2.mid\n",
      "Loading Music File: Data/schubert/schubert_D935_3.mid\n",
      "Loading Music File: Data/schubert/schubert_D935_4.mid\n",
      "Loading Music File: Data/schubert/schub_d760_1.mid\n",
      "Loading Music File: Data/schubert/schub_d760_2.mid\n",
      "Loading Music File: Data/schubert/schub_d760_3.mid\n",
      "Loading Music File: Data/schubert/schub_d760_4.mid\n",
      "Loading Music File: Data/schubert/schub_d960_1.mid\n",
      "Loading Music File: Data/schubert/schub_d960_2.mid\n",
      "Loading Music File: Data/schubert/schub_d960_3.mid\n",
      "Loading Music File: Data/schubert/schub_d960_4.mid\n",
      "Loading Music File: Data/schubert/schuim-1.mid\n",
      "Loading Music File: Data/schubert/schuim-2.mid\n",
      "Loading Music File: Data/schubert/schuim-3.mid\n",
      "Loading Music File: Data/schubert/schuim-4.mid\n",
      "Loading Music File: Data/schubert/schumm-1.mid\n",
      "Loading Music File: Data/schubert/schumm-2.mid\n",
      "Loading Music File: Data/schubert/schumm-3.mid\n",
      "Loading Music File: Data/schubert/schumm-4.mid\n",
      "Loading Music File: Data/schubert/schumm-5.mid\n",
      "Loading Music File: Data/schubert/schumm-6.mid\n",
      "Loading Music File: Data/schubert/schu_143_1.mid\n",
      "Loading Music File: Data/schubert/schu_143_2.mid\n",
      "Loading Music File: Data/schubert/schu_143_3.mid\n"
     ]
    },
    {
     "ename": "ValueError",
     "evalue": "setting an array element with a sequence. The requested array has an inhomogeneous shape after 1 dimensions. The detected shape was (29,) + inhomogeneous part.",
     "output_type": "error",
     "traceback": [
      "\u001b[1;31m---------------------------------------------------------------------------\u001b[0m",
      "\u001b[1;31mValueError\u001b[0m                                Traceback (most recent call last)",
      "Cell \u001b[1;32mIn[67], line 8\u001b[0m\n\u001b[0;32m      5\u001b[0m files\u001b[38;5;241m=\u001b[39m[i \u001b[38;5;28;01mfor\u001b[39;00m i \u001b[38;5;129;01min\u001b[39;00m os\u001b[38;5;241m.\u001b[39mlistdir(path) \u001b[38;5;28;01mif\u001b[39;00m i\u001b[38;5;241m.\u001b[39mendswith(\u001b[38;5;124m\"\u001b[39m\u001b[38;5;124m.mid\u001b[39m\u001b[38;5;124m\"\u001b[39m)]\n\u001b[0;32m      7\u001b[0m \u001b[38;5;66;03m#reading each midi file\u001b[39;00m\n\u001b[1;32m----> 8\u001b[0m notes_array \u001b[38;5;241m=\u001b[39m np\u001b[38;5;241m.\u001b[39marray([read_midi(path\u001b[38;5;241m+\u001b[39mi) \u001b[38;5;28;01mfor\u001b[39;00m i \u001b[38;5;129;01min\u001b[39;00m files])\n",
      "\u001b[1;31mValueError\u001b[0m: setting an array element with a sequence. The requested array has an inhomogeneous shape after 1 dimensions. The detected shape was (29,) + inhomogeneous part."
     ]
    }
   ],
   "source": [
    "#specify the path\n",
    "path='Data/schubert/'\n",
    "\n",
    "#read all the filenames\n",
    "files=[i for i in os.listdir(path) if i.endswith(\".mid\")]\n",
    "\n",
    "#reading each midi file\n",
    "notes_array = np.array([read_midi(path+i) for i in files])"
   ]
  },
  {
   "cell_type": "code",
   "execution_count": 47,
   "id": "2387b526-f822-41f0-be18-057d38a3573a",
   "metadata": {},
   "outputs": [],
   "source": [
    "#retrieve paths recursively from inside the directories/files\n",
    "file_path=[\"muss\"]\n",
    "all_files=glob.glob('Data/'+file_path[0]+'/*.mid',recursive=True)"
   ]
  },
  {
   "cell_type": "code",
   "execution_count": 49,
   "id": "0735842f-764e-4537-af8d-b7a8f3befe90",
   "metadata": {},
   "outputs": [
    {
     "name": "stderr",
     "output_type": "stream",
     "text": [
      "100%|████████████████████████████████████████████████████████████████████████████████████| 8/8 [00:05<00:00,  1.40it/s]\n"
     ]
    }
   ],
   "source": [
    "notes_array = [read_files(file) for file in tqdm(all_files,position=0,leave=True)]"
   ]
  },
  {
   "cell_type": "code",
   "execution_count": 51,
   "id": "806d93b1-5d85-4be7-b124-491beb34ad19",
   "metadata": {},
   "outputs": [
    {
     "ename": "ValueError",
     "evalue": "setting an array element with a sequence. The requested array has an inhomogeneous shape after 1 dimensions. The detected shape was (8,) + inhomogeneous part.",
     "output_type": "error",
     "traceback": [
      "\u001b[1;31m---------------------------------------------------------------------------\u001b[0m",
      "\u001b[1;31mValueError\u001b[0m                                Traceback (most recent call last)",
      "Cell \u001b[1;32mIn[51], line 1\u001b[0m\n\u001b[1;32m----> 1\u001b[0m np\u001b[38;5;241m.\u001b[39marray(notes_array)\n",
      "\u001b[1;31mValueError\u001b[0m: setting an array element with a sequence. The requested array has an inhomogeneous shape after 1 dimensions. The detected shape was (8,) + inhomogeneous part."
     ]
    }
   ],
   "source": [
    "np.array(notes_array)"
   ]
  },
  {
   "cell_type": "code",
   "execution_count": 50,
   "id": "c4c4298f-23c5-49fa-af7a-885388c34d1e",
   "metadata": {},
   "outputs": [
    {
     "data": {
      "text/plain": [
       "[950, 1054, 518, 447, 775, 583, 2187, 2750]"
      ]
     },
     "execution_count": 50,
     "metadata": {},
     "output_type": "execute_result"
    }
   ],
   "source": [
    "max_length = max([len(notes_array[i]) for i in range(0, len(notes_array))])\n",
    "min_length = min([len(notes_array[i]) for i in range(0, len(notes_array))])\n",
    "[len(notes_array[i]) for i in range(0, len(notes_array))]"
   ]
  },
  {
   "cell_type": "code",
   "execution_count": 33,
   "id": "bc9096ce-be42-4c8f-b686-a771e0729446",
   "metadata": {},
   "outputs": [
    {
     "ename": "UFuncTypeError",
     "evalue": "ufunc 'add' did not contain a loop with signature matching types (dtype('float64'), dtype('<U14')) -> None",
     "output_type": "error",
     "traceback": [
      "\u001b[1;31m---------------------------------------------------------------------------\u001b[0m",
      "\u001b[1;31mUFuncTypeError\u001b[0m                            Traceback (most recent call last)",
      "Cell \u001b[1;32mIn[33], line 4\u001b[0m\n\u001b[0;32m      2\u001b[0m padded_list \u001b[38;5;241m=\u001b[39m [sublist \u001b[38;5;241m+\u001b[39m [\u001b[38;5;124m'\u001b[39m\u001b[38;5;124m0\u001b[39m\u001b[38;5;124m'\u001b[39m] \u001b[38;5;241m*\u001b[39m (max_length \u001b[38;5;241m-\u001b[39m \u001b[38;5;28mlen\u001b[39m(sublist)) \u001b[38;5;28;01mfor\u001b[39;00m sublist \u001b[38;5;129;01min\u001b[39;00m notes_array]\n\u001b[0;32m      3\u001b[0m padded_array \u001b[38;5;241m=\u001b[39m np\u001b[38;5;241m.\u001b[39marray(padded_list)\n\u001b[1;32m----> 4\u001b[0m notess \u001b[38;5;241m=\u001b[39m \u001b[38;5;28msum\u001b[39m(padded_array,[])\n",
      "\u001b[1;31mUFuncTypeError\u001b[0m: ufunc 'add' did not contain a loop with signature matching types (dtype('float64'), dtype('<U14')) -> None"
     ]
    }
   ],
   "source": [
    "# Pad sublists with '0' to make them uniform in length\n",
    "padded_list = [sublist + ['0'] * (max_length - len(sublist)) for sublist in notes_array]\n",
    "padded_array = np.array(padded_list)\n",
    "#notess = sum(padded_array,[])"
   ]
  },
  {
   "cell_type": "code",
   "execution_count": null,
   "id": "818471ba-746f-41b8-8c1d-2a3a076c6373",
   "metadata": {},
   "outputs": [],
   "source": [
    "#unique notes\n",
    "notess = sum(notes_array,[]) \n",
    "unique_notes = list(set(notess))\n",
    "print(\"Unique Notes:\",len(unique_notes))"
   ]
  },
  {
   "cell_type": "code",
   "execution_count": null,
   "id": "6f3bb0db-e8b4-4565-8c24-f637a1347940",
   "metadata": {},
   "outputs": [],
   "source": [
    "#notes with their frequency\n",
    "freq=dict(map(lambda x: (x,notess.count(x)),unique_notes))\n",
    "\n",
    "#get the threshold frequency\n",
    "print(\"\\nFrequency notes\")\n",
    "for i in range(30,100,20):\n",
    "  print(i,\":\",len(list(filter(lambda x:x[1]>=i,freq.items()))))\n",
    "\n",
    "#filter notes greater than threshold i.e. 50\n",
    "freq_notes=dict(filter(lambda x:x[1]>=50,freq.items()))\n",
    "\n",
    "#create new notes using the frequent notes\n",
    "new_notes=[[i for i in j if i in freq_notes] for j in notes_array]\n",
    "\n",
    "#dictionary having key as note index and value as note\n",
    "ind2note=dict(enumerate(freq_notes))\n",
    "\n",
    "#dictionary having key as note and value as note index\n",
    "note2ind=dict(map(reversed,ind2note.items()))\n",
    "\n",
    "#timestep\n",
    "timesteps=50\n",
    "\n",
    "#store values of input and output\n",
    "x=[] ; y=[]"
   ]
  },
  {
   "cell_type": "code",
   "execution_count": null,
   "id": "910ccbf3-4156-4f10-a144-1745e426f0c3",
   "metadata": {},
   "outputs": [],
   "source": []
  },
  {
   "cell_type": "code",
   "execution_count": 53,
   "id": "6da785c8-e51b-45d8-ba1b-a7b67e35570a",
   "metadata": {},
   "outputs": [],
   "source": [
    "def read_files(file):\n",
    "    notes = []\n",
    "    notes_to_parse = None\n",
    "    \n",
    "    # Parse the midi file\n",
    "    midi = converter.parse(file)\n",
    "    \n",
    "    # Separate all instruments from the file\n",
    "    instrmt = instrument.partitionByInstrument(midi)\n",
    "\n",
    "    for part in instrmt.parts:\n",
    "        # Fetch data only for Piano instrument\n",
    "        if 'Piano' in str(part):\n",
    "            notes_to_parse = part.recurse()\n",
    "\n",
    "            # Iterate over all the parts of sub stream elements\n",
    "            # Check if element's type is Note or chord\n",
    "            # If it is chord, split them into notes\n",
    "            for element in notes_to_parse:\n",
    "                try:\n",
    "                    if type(element) == note.Note:\n",
    "                        notes.append(str(element.pitch))\n",
    "                    elif type(element) == chord.Chord:\n",
    "                        notes.append('.'.join(str(n) for n in element.normalOrder))\n",
    "                except AttributeError as e:\n",
    "                    # Handle cases where instrument information is not available\n",
    "                    print(f\"Warning: {e}\")\n",
    "                    pass\n",
    "\n",
    "    # Return the list of notes\n",
    "    return notes"
   ]
  },
  {
   "cell_type": "code",
   "execution_count": 54,
   "id": "298ada48-5ab6-44d0-9997-5aa9dfcf0789",
   "metadata": {},
   "outputs": [
    {
     "name": "stderr",
     "output_type": "stream",
     "text": [
      " 28%|██████████████████████▉                                                            | 8/29 [09:45<25:37, 73.22s/it]\n",
      "C:\\Users\\RaviB\\anaconda3\\envs\\HarmonAIze\\Lib\\site-packages\\music21\\midi\\translate.py:874: TranslateWarning: Unable to determine instrument from <music21.midi.MidiEvent SEQUENCE_TRACK_NAME, track=5, channel=None, data=b'Copyright \\xa9 2006 by Bernd Kr\\xfcger'>; getting generic Instrument\n",
      "  warnings.warn(\n",
      " 14%|███████████▊                                                                       | 3/21 [00:15<01:36,  5.36s/it]C:\\Users\\RaviB\\anaconda3\\envs\\HarmonAIze\\Lib\\site-packages\\music21\\midi\\translate.py:874: TranslateWarning: Unable to determine instrument from <music21.midi.MidiEvent SEQUENCE_TRACK_NAME, track=5, channel=None, data=b'Copyright \\xa9 1997 by Bernd Kr\\xfcger'>; getting generic Instrument\n",
      "  warnings.warn(\n",
      " 29%|███████████████████████▋                                                           | 6/21 [00:30<01:16,  5.07s/it]C:\\Users\\RaviB\\anaconda3\\envs\\HarmonAIze\\Lib\\site-packages\\music21\\midi\\translate.py:874: TranslateWarning: Unable to determine instrument from <music21.midi.MidiEvent SEQUENCE_TRACK_NAME, track=5, channel=None, data=b'Copyright \\xa9 2005 by Bernd Kr\\xfcger'>; getting generic Instrument\n",
      "  warnings.warn(\n",
      " 71%|██████████████████████████████████████████████████████████▌                       | 15/21 [01:25<00:35,  5.95s/it]C:\\Users\\RaviB\\anaconda3\\envs\\HarmonAIze\\Lib\\site-packages\\music21\\midi\\translate.py:874: TranslateWarning: Unable to determine instrument from <music21.midi.MidiEvent SEQUENCE_TRACK_NAME, track=5, channel=None, data=b'Copyright \\xa9 2006 by Bernd Krueger'>; getting generic Instrument\n",
      "  warnings.warn(\n",
      "100%|██████████████████████████████████████████████████████████████████████████████████| 21/21 [01:49<00:00,  5.22s/it]\n"
     ]
    }
   ],
   "source": [
    "#retrieve paths recursively from inside the directories/files\n",
    "file_path=[\"mozart\"]\n",
    "all_files=glob.glob('Data/'+file_path[0]+'/*.mid',recursive=True)\n",
    "\n",
    "#reading each midi file\n",
    "notes_array = [read_files(i) for i in tqdm(all_files,position=0,leave=True)]"
   ]
  },
  {
   "cell_type": "code",
   "execution_count": null,
   "id": "24f719a2-ed31-4d96-8ddb-0fb54035b01e",
   "metadata": {},
   "outputs": [],
   "source": []
  },
  {
   "cell_type": "code",
   "execution_count": null,
   "id": "4ef03fac-2abd-4990-bb00-c9028e2399e6",
   "metadata": {},
   "outputs": [],
   "source": []
  }
 ],
 "metadata": {
  "kernelspec": {
   "display_name": "Python 3 (ipykernel)",
   "language": "python",
   "name": "python3"
  },
  "language_info": {
   "codemirror_mode": {
    "name": "ipython",
    "version": 3
   },
   "file_extension": ".py",
   "mimetype": "text/x-python",
   "name": "python",
   "nbconvert_exporter": "python",
   "pygments_lexer": "ipython3",
   "version": "3.11.7"
  }
 },
 "nbformat": 4,
 "nbformat_minor": 5
}
